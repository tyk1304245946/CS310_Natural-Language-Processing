{
 "cells": [
  {
   "cell_type": "markdown",
   "metadata": {},
   "source": [
    "## CS310 Natural Language Processing\n",
    "## Assignment 1. Neural Text Classification\n",
    "\n",
    "**Total points**: 50\n",
    "\n",
    "You should roughtly follow the structure of the notebook. Add additional cells if you feel needed. \n",
    "\n",
    "You can (and you should) re-use the code from Lab 2. \n",
    "\n",
    "Make sure your code is readable and well-structured."
   ]
  },
  {
   "cell_type": "markdown",
   "metadata": {},
   "source": [
    "### 0. Import Necessary Libraries"
   ]
  },
  {
   "cell_type": "code",
   "execution_count": 1,
   "metadata": {},
   "outputs": [
    {
     "name": "stderr",
     "output_type": "stream",
     "text": [
      "d:\\Miniconda\\envs\\nlp-env-torchtext\\Lib\\site-packages\\tqdm\\auto.py:21: TqdmWarning: IProgress not found. Please update jupyter and ipywidgets. See https://ipywidgets.readthedocs.io/en/stable/user_install.html\n",
      "  from .autonotebook import tqdm as notebook_tqdm\n"
     ]
    }
   ],
   "source": [
    "import json\n",
    "import torch\n",
    "from datasets import load_dataset\n",
    "\n",
    "from torch.utils.data import DataLoader\n",
    "from torch.utils.data import dataset"
   ]
  },
  {
   "cell_type": "markdown",
   "metadata": {},
   "source": [
    "### 1. Data Processing"
   ]
  },
  {
   "cell_type": "code",
   "execution_count": 2,
   "metadata": {},
   "outputs": [
    {
     "name": "stdout",
     "output_type": "stream",
     "text": [
      "{'sentence': '卖油条小刘说：我说', 'label': 0}\n",
      "{'sentence': '保姆小张说：干啥子嘛？', 'label': 0}\n",
      "{'sentence': '卖油条小刘说：你看你往星空看月朦胧，鸟朦胧', 'label': 1}\n",
      "{'sentence': '卖油条小刘说：咱是不是歇一下这双，疲惫的双腿？', 'label': 0}\n",
      "{'sentence': '卖油条小刘说：快把我累死了', 'label': 0}\n",
      "{'sentence': '卖油条小刘说：我说亲爱的大姐你贵姓啊？', 'label': 1}\n",
      "{'sentence': '保姆小张说：我免贵姓张我叫张凤姑', 'label': 0}\n",
      "{'sentence': '卖油条小刘说：凤姑', 'label': 0}\n"
     ]
    }
   ],
   "source": [
    "device = torch.device(\"cuda\" if torch.cuda.is_available() else \"cpu\")\n",
    "\n",
    "train_dataset = load_dataset('json', data_files='train.jsonl',split='train')\n",
    "train_dataset = train_dataset.remove_columns([col for col in train_dataset.column_names if col not in ['sentence', 'label']])\n",
    "test_dataset = load_dataset('json', data_files={'test': 'test.jsonl'}, split='test')\n",
    "test_dataset = test_dataset.remove_columns([col for col in test_dataset.column_names if col not in ['sentence', 'label']])\n",
    "\n",
    "\n",
    "def convert_label(example):\n",
    "    example['label'] = example['label'][0]  # 选择列表中的第一个元素\n",
    "    return example\n",
    "\n",
    "train_dataset = train_dataset.map(convert_label)\n",
    "train_iter = iter(train_dataset)\n",
    "\n",
    "test_dataset = test_dataset.map(convert_label)\n",
    "test_iter = iter(test_dataset)\n",
    "\n",
    "count = 0\n",
    "for item in train_iter:\n",
    "    print(item)\n",
    "    count += 1\n",
    "    if count > 7:\n",
    "        break"
   ]
  },
  {
   "cell_type": "code",
   "execution_count": 3,
   "metadata": {},
   "outputs": [],
   "source": [
    "import re\n",
    "import jieba\n",
    "\n",
    "def basic_chinese_tokenizer(text):\n",
    "    chinese_char_pattern = r'[\\u4e00-\\u9fff]'  # Unicode range for common Chinese characters\n",
    "    tokens = re.findall(chinese_char_pattern, text)\n",
    "    return tokens\n",
    "\n",
    "def improved_chinese_tokenizer(text):\n",
    "    chinese_char_pattern = r'[\\u4e00-\\u9fff]'\n",
    "    digits_pattern = r'\\d+'\n",
    "    english_word_pattern = r'[a-zA-Z]+'\n",
    "    punctuation_pattern = r'[，。！？、：；（）【】《》“”‘’.,;:!?()\\[\\]{}]+'\n",
    "    combined_pattern = f\"({chinese_char_pattern}|{digits_pattern}|{english_word_pattern}|{punctuation_pattern})\"\n",
    "    tokens = re.findall(combined_pattern, text)\n",
    "    return tokens\n",
    "\n",
    "def jieba_chinese_tokenizer(text):\n",
    "    tokens = jieba.lcut(text)\n",
    "    return tokens\n",
    "\n",
    "# tokenizer = basic_chinese_tokenizer\n",
    "tokenizer = improved_chinese_tokenizer\n",
    "# tokenizer = jieba_chinese_tokenizer\n",
    "\n",
    "def yield_tokens(data_iter):\n",
    "    for batch in data_iter:\n",
    "        yield tokenizer(batch['sentence'])"
   ]
  },
  {
   "cell_type": "code",
   "execution_count": 4,
   "metadata": {},
   "outputs": [
    {
     "name": "stdout",
     "output_type": "stream",
     "text": [
      "['卖', '油', '条', '小', '刘', '说', '：', '我', '说']\n",
      "['保', '姆', '小', '张', '说', '：', '干', '啥', '子', '嘛', '？']\n",
      "['卖', '油', '条', '小', '刘', '说', '：', '你', '看', '你', '往', '星', '空', '看', '月', '朦', '胧', '，', '鸟', '朦', '胧']\n",
      "['卖', '油', '条', '小', '刘', '说', '：', '咱', '是', '不', '是', '歇', '一', '下', '这', '双', '，', '疲', '惫', '的', '双', '腿', '？']\n"
     ]
    }
   ],
   "source": [
    "count = 0\n",
    "for tokens in yield_tokens(iter(train_dataset)): # Use a new iterator\n",
    "    print(tokens)\n",
    "    count += 1\n",
    "    if count > 3:\n",
    "        break"
   ]
  },
  {
   "cell_type": "code",
   "execution_count": 5,
   "metadata": {},
   "outputs": [
    {
     "name": "stderr",
     "output_type": "stream",
     "text": [
      "d:\\Miniconda\\envs\\nlp-env-torchtext\\Lib\\site-packages\\torchtext\\vocab\\__init__.py:4: UserWarning: \n",
      "/!\\ IMPORTANT WARNING ABOUT TORCHTEXT STATUS /!\\ \n",
      "Torchtext is deprecated and the last released version will be 0.18 (this one). You can silence this warning by calling the following at the beginnign of your scripts: `import torchtext; torchtext.disable_torchtext_deprecation_warning()`\n",
      "  warnings.warn(torchtext._TORCHTEXT_DEPRECATION_MSG)\n",
      "d:\\Miniconda\\envs\\nlp-env-torchtext\\Lib\\site-packages\\torchtext\\utils.py:4: UserWarning: \n",
      "/!\\ IMPORTANT WARNING ABOUT TORCHTEXT STATUS /!\\ \n",
      "Torchtext is deprecated and the last released version will be 0.18 (this one). You can silence this warning by calling the following at the beginnign of your scripts: `import torchtext; torchtext.disable_torchtext_deprecation_warning()`\n",
      "  warnings.warn(torchtext._TORCHTEXT_DEPRECATION_MSG)\n"
     ]
    }
   ],
   "source": [
    "# build vocabulary\n",
    "from torchtext.vocab import build_vocab_from_iterator\n",
    "\n",
    "vocab = build_vocab_from_iterator(yield_tokens(iter(train_dataset)), specials=[\"<unk>\"])\n",
    "vocab.set_default_index(vocab[\"<unk>\"])"
   ]
  },
  {
   "cell_type": "code",
   "execution_count": 6,
   "metadata": {},
   "outputs": [
    {
     "name": "stdout",
     "output_type": "stream",
     "text": [
      "[423, 1, 4, 55]\n",
      "[423, 1, 70, 7, 5, 7, 908, 18, 75]\n",
      "[0, 0]\n",
      "Vocabulary size: 2840\n",
      "[4, 34, 407, 501, 71, 301, 0]\n",
      "[473, 460, 282, 895, 71, 301, 0, 0]\n"
     ]
    }
   ],
   "source": [
    "# Check the vocab\n",
    "print(vocab(['刘', '说', '你', '看']))\n",
    "print(vocab(['刘', '说', '咱', '是', '不', '是', '歇', '一', '下']))\n",
    "print(vocab(['of', 'saucy']))\n",
    "\n",
    "print(\"Vocabulary size:\", len(vocab))\n",
    "print(vocab(['你', '好', '世','界', '！','。','@']))\n",
    "print(vocab(['卖', '油', '条','鸡', '！','。','@','123']))"
   ]
  },
  {
   "cell_type": "code",
   "execution_count": 7,
   "metadata": {},
   "outputs": [
    {
     "name": "stdout",
     "output_type": "stream",
     "text": [
      "[10, 7, 18, 26, 914, 1453]\n",
      "1\n"
     ]
    }
   ],
   "source": [
    "text_pipeline = lambda x: vocab(tokenizer(x))\n",
    "label_pipeline = lambda x: int(x)\n",
    "\n",
    "# Test text_pipeline()\n",
    "tokens = text_pipeline('这是一个示例')\n",
    "print(tokens)\n",
    "\n",
    "# Test label_pipeline()\n",
    "lbl = label_pipeline('1')\n",
    "print(lbl)"
   ]
  },
  {
   "cell_type": "code",
   "execution_count": 8,
   "metadata": {},
   "outputs": [],
   "source": [
    "from torch.utils.data import DataLoader\n",
    "device = torch.device(\"cuda\" if torch.cuda.is_available() else \"cpu\")\n",
    "\n",
    "def collate_batch(batch):\n",
    "    label_list, token_ids_list, offsets = [], [], [0]\n",
    "\n",
    "    for data in batch:\n",
    "        _label = data['label']\n",
    "        _text = data['sentence']\n",
    "        label_list.append(label_pipeline(_label))\n",
    "        token_ids = torch.tensor(text_pipeline(_text), dtype=torch.int64)\n",
    "        token_ids_list.append(token_ids)\n",
    "        offsets.append(token_ids.size(0)) # Note that offsets contains the length (number of tokens) of each example\n",
    "\n",
    "    labels = torch.tensor(label_list, dtype=torch.int64)\n",
    "    offsets = torch.tensor(offsets[:-1]).cumsum(dim=0)\n",
    "    token_ids = torch.cat(token_ids_list)\n",
    "\n",
    "    return labels.to(device), token_ids.to(device), offsets.to(device)"
   ]
  },
  {
   "cell_type": "code",
   "execution_count": 9,
   "metadata": {},
   "outputs": [],
   "source": [
    "# Use collate_batch to generate the dataloader\\\n",
    "dataloader = DataLoader(\n",
    "    train_dataset, batch_size=8, shuffle=False, collate_fn=collate_batch\n",
    ")"
   ]
  },
  {
   "cell_type": "code",
   "execution_count": 10,
   "metadata": {},
   "outputs": [
    {
     "name": "stdout",
     "output_type": "stream",
     "text": [
      "batch 0 label: tensor([0, 0, 1, 0, 0, 1, 0, 0])\n",
      "batch 0 text: tensor([ 473,  460,  282,   23,  423,    1,    2,    3,    1,   73,   83,   23,\n",
      "         113,    1,    2,   98,  483,   46,   59,   33,  473,  460,  282,   23,\n",
      "         423,    1,    2,    4,   55,    4,  305,  761,  870,   55,  494, 2151,\n",
      "        2230,    6, 1217, 2151, 2230,  473,  460,  282,   23,  423,    1,    2,\n",
      "          70,    7,    5,    7,  908,   18,   75,   10,  876,    6, 2201, 2511,\n",
      "           8,  876, 1133,   33,  473,  460,  282,   23,  423,    1,    2,  187,\n",
      "          86,    3,  609,  183,    9,  473,  460,  282,   23,  423,    1,    2,\n",
      "           3,    1,  308,  164,    8,   32,  141,    4,  688,  453,   21,   33,\n",
      "          73,   83,   23,  113,    1,    2,    3,  820,  688,  453,  113,    3,\n",
      "         149,  113, 1186,  221,  473,  460,  282,   23,  423,    1,    2, 1186,\n",
      "         221])\n",
      "batch 0 offsets: tensor([  0,   9,  20,  41,  64,  77,  96, 112])\n",
      "Number of tokens in this batch:  121\n",
      "Number of examples in one batch:  8\n",
      "Example 0:  tensor([473, 460, 282,  23, 423,   1,   2,   3,   1])\n",
      "Example 7:  tensor([ 473,  460,  282,   23,  423,    1,    2, 1186,  221])\n"
     ]
    }
   ],
   "source": [
    "# Test the dataloader\n",
    "for i, (labels, token_ids, offsets) in enumerate(dataloader):\n",
    "    print(f\"batch {i} label: {labels}\")\n",
    "    print(f\"batch {i} text: {token_ids}\")\n",
    "    print(f\"batch {i} offsets: {offsets}\")\n",
    "    if i == 0:\n",
    "        break\n",
    "\n",
    "# What does offsets mean?\n",
    "print('Number of tokens in this batch: ', token_ids.size(0))\n",
    "print('Number of examples in one batch: ', labels.size(0))\n",
    "print('Example 0: ', token_ids[offsets[0]:offsets[1]])\n",
    "print('Example 7: ', token_ids[offsets[7]:])\n",
    "\n",
    "# You are expected to see the following output:\n",
    "# Number of tokens in this batch:  82\n",
    "# Number of examples in one batch:  8\n",
    "# Example 0:  tensor([ 4579,    92, 13266,    38,     1,  7742, 10000])\n",
    "# Example 7:  tensor([   5, 7100])"
   ]
  },
  {
   "cell_type": "markdown",
   "metadata": {},
   "source": [
    "### 2. Build the Model"
   ]
  },
  {
   "cell_type": "code",
   "execution_count": 11,
   "metadata": {},
   "outputs": [],
   "source": [
    "from torch import nn\n",
    "\n",
    "class TextClassificationModel(nn.Module):\n",
    "    def __init__(self, vocab_size, embed_dim, num_class, hidden_dim1, hidden_dim2):\n",
    "        super(TextClassificationModel, self).__init__()\n",
    "        self.embedding = nn.EmbeddingBag(vocab_size, embed_dim, sparse=False)\n",
    "        self.hidden_layers = nn.Sequential(\n",
    "            nn.Linear(embed_dim, hidden_dim1),\n",
    "            nn.ReLU(),\n",
    "            nn.Linear(hidden_dim1, hidden_dim2),\n",
    "            nn.ReLU()\n",
    "        )\n",
    "        self.fc = nn.Linear(hidden_dim2, num_class)\n",
    "        self.init_weights()\n",
    "\n",
    "    def init_weights(self):\n",
    "        initrange = 0.5\n",
    "        self.embedding.weight.data.uniform_(-initrange, initrange)\n",
    "        for layer in self.hidden_layers:\n",
    "            if isinstance(layer, nn.Linear):\n",
    "                layer.weight.data.uniform_(-initrange, initrange)\n",
    "                layer.bias.data.zero_()\n",
    "        self.fc.weight.data.uniform_(-initrange, initrange)\n",
    "        self.fc.bias.data.zero_()\n",
    "\n",
    "    def forward(self, token_ids, offsets):\n",
    "        embedded = self.embedding(token_ids, offsets)\n",
    "        x = self.hidden_layers(embedded)\n",
    "        return self.fc(x)"
   ]
  },
  {
   "cell_type": "code",
   "execution_count": 12,
   "metadata": {},
   "outputs": [],
   "source": [
    "\n",
    "# Build the model\n",
    "train_iter = iter(train_dataset)\n",
    "num_class = len(set([data['label'] for data in train_iter]))\n",
    "vocab_size = len(vocab)\n",
    "emsize = 64 # embedding size\n",
    "hidden_dim1 = 16\n",
    "hidden_dim2 = 8\n",
    "model = TextClassificationModel(vocab_size, emsize, num_class, hidden_dim1, hidden_dim2).to(device)"
   ]
  },
  {
   "cell_type": "code",
   "execution_count": 13,
   "metadata": {},
   "outputs": [
    {
     "name": "stdout",
     "output_type": "stream",
     "text": [
      "output size: torch.Size([8, 2])\n",
      "TextClassificationModel(\n",
      "  (embedding): EmbeddingBag(2840, 64, mode='mean')\n",
      "  (hidden_layers): Sequential(\n",
      "    (0): Linear(in_features=64, out_features=16, bias=True)\n",
      "    (1): ReLU()\n",
      "    (2): Linear(in_features=16, out_features=8, bias=True)\n",
      "    (3): ReLU()\n",
      "  )\n",
      "  (fc): Linear(in_features=8, out_features=2, bias=True)\n",
      ")\n"
     ]
    }
   ],
   "source": [
    "# Test the model\n",
    "model.eval()\n",
    "with torch.no_grad():\n",
    "    for i, (labels, token_ids, offsets) in enumerate(dataloader):\n",
    "        output = model(token_ids, offsets)\n",
    "        # print(f\"batch {i} output: {output}\")\n",
    "        if i == 0:\n",
    "            break\n",
    "\n",
    "print('output size:', output.size())\n",
    "\n",
    "# You are expected to see the following output:\n",
    "# output size: torch.Size([8, 2])\n",
    "\n",
    "print(model)"
   ]
  },
  {
   "cell_type": "code",
   "execution_count": 14,
   "metadata": {},
   "outputs": [
    {
     "name": "stderr",
     "output_type": "stream",
     "text": [
      "d:\\Miniconda\\envs\\nlp-env-torchtext\\Lib\\site-packages\\torchtext\\data\\__init__.py:4: UserWarning: \n",
      "/!\\ IMPORTANT WARNING ABOUT TORCHTEXT STATUS /!\\ \n",
      "Torchtext is deprecated and the last released version will be 0.18 (this one). You can silence this warning by calling the following at the beginnign of your scripts: `import torchtext; torchtext.disable_torchtext_deprecation_warning()`\n",
      "  warnings.warn(torchtext._TORCHTEXT_DEPRECATION_MSG)\n"
     ]
    }
   ],
   "source": [
    "from torch.utils.data.dataset import random_split\n",
    "from torchtext.data.functional import to_map_style_dataset\n",
    "\n",
    "# Hyperparameters\n",
    "EPOCHS = 10  # epoch\n",
    "LR = 0.01  # learning rate\n",
    "BATCH_SIZE = 4  # batch size for training\n",
    "\n",
    "criterion = torch.nn.CrossEntropyLoss()\n",
    "\n",
    "optimizer = torch.optim.SGD(model.parameters(), lr=LR)\n",
    "scheduler = torch.optim.lr_scheduler.StepLR(optimizer, step_size=1, gamma=0.1)"
   ]
  },
  {
   "cell_type": "code",
   "execution_count": 15,
   "metadata": {},
   "outputs": [
    {
     "name": "stdout",
     "output_type": "stream",
     "text": [
      "output shape: torch.Size([8, 2])\n",
      "loss: tensor(0.7348)\n",
      "loss_manual mean: tensor(0.7348)\n"
     ]
    }
   ],
   "source": [
    "# First, obtain some output and labels\n",
    "model.eval()\n",
    "with torch.no_grad():\n",
    "    for i, (labels, token_ids, offsets) in enumerate(dataloader):\n",
    "        output = model(token_ids, offsets)\n",
    "        # print(f\"batch {i} output: {output}\")\n",
    "        if i == 0:\n",
    "            break\n",
    "print('output shape:', output.shape)\n",
    "\n",
    "loss = criterion(output, labels)\n",
    "print('loss:', loss)\n",
    "\n",
    "# Manually calculate the loss\n",
    "loss_manual = []\n",
    "for i in range(output.shape[0]):\n",
    "    ### START YOUR CODE ###\n",
    "    probs = torch.softmax(output[i], dim=0)\n",
    "    l = -torch.log(probs[labels[i]])\n",
    "    ### END YOUR CODE ###\n",
    "    loss_manual.append(l)\n",
    "loss_manual = torch.stack(loss_manual)\n",
    "print('loss_manual mean:', loss_manual.mean())\n",
    "\n",
    "# You are expected to see the following output:\n",
    "# output shape: torch.Size([8, 2])\n",
    "# loss: tensor(0.0115)\n",
    "# loss_manual mean: tensor(0.0115)"
   ]
  },
  {
   "cell_type": "markdown",
   "metadata": {},
   "source": [
    "### 3. Train and Evaluate"
   ]
  },
  {
   "cell_type": "code",
   "execution_count": 16,
   "metadata": {},
   "outputs": [],
   "source": [
    "import time\n",
    "from sklearn.metrics import precision_score, recall_score, f1_score\n",
    "\n",
    "def train(model, dataloader, optimizer, criterion, epoch: int):\n",
    "    model.train()\n",
    "    total_acc, total_count = 0, 0\n",
    "    log_interval = 500\n",
    "    start_time = time.time()\n",
    "\n",
    "    for idx, (labels, token_ids, offsets) in enumerate(dataloader):\n",
    "        optimizer.zero_grad()\n",
    "        ### START YOUR CODE ###\n",
    "        # Forward pass\n",
    "        output = model(token_ids, offsets)\n",
    "        ### END YOUR CODE ###\n",
    "        try:\n",
    "            ### START YOUR CODE ###\n",
    "            # Compute loss\n",
    "            loss = criterion(output, labels)\n",
    "            ### END YOUR CODE ###\n",
    "        except Exception:\n",
    "            print('Error in loss calculation')\n",
    "            print('output: ', output.size())\n",
    "            print('labels: ', labels.size())\n",
    "            print('token_ids: ', token_ids)\n",
    "            print('offsets: ', offsets)\n",
    "            raise\n",
    "        ### START YOUR CODE ###\n",
    "        # Backward propagation, grad clipping, and optimization\n",
    "        loss.backward()\n",
    "        torch.nn.utils.clip_grad_norm_(model.parameters(), 0.5)\n",
    "        optimizer.step()\n",
    "        ### END YOUR CODE ###\n",
    "\n",
    "        ### START YOUR CODE ###\n",
    "        # Calculate correct prediction in current batch\n",
    "        total_acc += (output.argmax(1) == labels).sum().item()\n",
    "        ### END YOUR CODE ###\n",
    "\n",
    "        total_count += labels.size(0)\n",
    "        if idx % log_interval == 0 and idx > 0:\n",
    "            elapsed = time.time() - start_time\n",
    "            print(\n",
    "                \"| epoch {:3d} | {:5d}/{:5d} batches \"\n",
    "                \"| accuracy {:8.3f}\".format(\n",
    "                    epoch, idx, len(dataloader), total_acc / total_count\n",
    "                )\n",
    "            )\n",
    "            total_acc, total_count = 0, 0\n",
    "            start_time = time.time()\n",
    "\n",
    "@torch.no_grad()\n",
    "def evaluate(model, dataloader, criterion):\n",
    "    model.eval()\n",
    "    total_acc, total_count = 0, 0\n",
    "    all_labels = []\n",
    "    all_preds = []\n",
    "\n",
    "    for idx, (label, text, offsets) in enumerate(dataloader):\n",
    "        ### START YOUR CODE ###\n",
    "        # Similar to the code in train function, but without backpropagation\n",
    "        output = model(text, offsets)\n",
    "        loss = criterion(output, label)\n",
    "        total_acc += (output.argmax(1) == label).sum().item()\n",
    "        ### END YOUR CODE ###\n",
    "        total_count += label.size(0)\n",
    "        all_labels.extend(label.cpu().numpy())\n",
    "        all_preds.extend(output.argmax(1).cpu().numpy())\n",
    "\n",
    "    accuracy = total_acc / total_count\n",
    "    precision = precision_score(all_labels, all_preds, average='weighted')\n",
    "    recall = recall_score(all_labels, all_preds, average='weighted')\n",
    "    f1 = f1_score(all_labels, all_preds, average='weighted')\n",
    "\n",
    "    return accuracy, precision, recall, f1"
   ]
  },
  {
   "cell_type": "code",
   "execution_count": 17,
   "metadata": {},
   "outputs": [],
   "source": [
    "# Prepare train, valid, and test data\n",
    "train_iter = iter(train_dataset)\n",
    "test_iter = iter(test_dataset)\n",
    "train_dataset = to_map_style_dataset(train_iter)\n",
    "test_dataset = to_map_style_dataset(test_iter)\n",
    "\n",
    "num_train = int(len(train_dataset) * 0.95)\n",
    "split_train_, split_valid_ = random_split(\n",
    "    train_dataset, [num_train, len(train_dataset) - num_train]\n",
    ")\n",
    "\n",
    "train_dataloader = DataLoader(\n",
    "    split_train_, batch_size=BATCH_SIZE, shuffle=True, collate_fn=collate_batch\n",
    ")\n",
    "valid_dataloader = DataLoader(\n",
    "    split_valid_, batch_size=BATCH_SIZE, shuffle=True, collate_fn=collate_batch\n",
    ")\n",
    "test_dataloader = DataLoader(\n",
    "    test_dataset, batch_size=BATCH_SIZE, shuffle=True, collate_fn=collate_batch\n",
    ")"
   ]
  },
  {
   "cell_type": "code",
   "execution_count": 18,
   "metadata": {},
   "outputs": [
    {
     "name": "stdout",
     "output_type": "stream",
     "text": [
      "| epoch   1 |   500/ 3011 batches | accuracy    0.675\n",
      "| epoch   1 |  1000/ 3011 batches | accuracy    0.701\n",
      "| epoch   1 |  1500/ 3011 batches | accuracy    0.707\n",
      "| epoch   1 |  2000/ 3011 batches | accuracy    0.737\n",
      "| epoch   1 |  2500/ 3011 batches | accuracy    0.713\n",
      "| epoch   1 |  3000/ 3011 batches | accuracy    0.723\n",
      "-----------------------------------------------------------\n",
      "| end of epoch   1 | time:  2.67s | valid accuracy    0.694 \n",
      "-----------------------------------------------------------\n"
     ]
    },
    {
     "name": "stderr",
     "output_type": "stream",
     "text": [
      "d:\\Miniconda\\envs\\nlp-env-torchtext\\Lib\\site-packages\\sklearn\\metrics\\_classification.py:1565: UndefinedMetricWarning: Precision is ill-defined and being set to 0.0 in labels with no predicted samples. Use `zero_division` parameter to control this behavior.\n",
      "  _warn_prf(average, modifier, f\"{metric.capitalize()} is\", len(result))\n"
     ]
    },
    {
     "name": "stdout",
     "output_type": "stream",
     "text": [
      "| epoch   2 |   500/ 3011 batches | accuracy    0.734\n",
      "| epoch   2 |  1000/ 3011 batches | accuracy    0.727\n",
      "| epoch   2 |  1500/ 3011 batches | accuracy    0.697\n",
      "| epoch   2 |  2000/ 3011 batches | accuracy    0.704\n",
      "| epoch   2 |  2500/ 3011 batches | accuracy    0.717\n",
      "| epoch   2 |  3000/ 3011 batches | accuracy    0.705\n",
      "-----------------------------------------------------------\n",
      "| end of epoch   2 | time:  2.72s | valid accuracy    0.694 \n",
      "-----------------------------------------------------------\n"
     ]
    },
    {
     "name": "stderr",
     "output_type": "stream",
     "text": [
      "d:\\Miniconda\\envs\\nlp-env-torchtext\\Lib\\site-packages\\sklearn\\metrics\\_classification.py:1565: UndefinedMetricWarning: Precision is ill-defined and being set to 0.0 in labels with no predicted samples. Use `zero_division` parameter to control this behavior.\n",
      "  _warn_prf(average, modifier, f\"{metric.capitalize()} is\", len(result))\n"
     ]
    },
    {
     "name": "stdout",
     "output_type": "stream",
     "text": [
      "| epoch   3 |   500/ 3011 batches | accuracy    0.709\n",
      "| epoch   3 |  1000/ 3011 batches | accuracy    0.718\n",
      "| epoch   3 |  1500/ 3011 batches | accuracy    0.725\n",
      "| epoch   3 |  2000/ 3011 batches | accuracy    0.718\n",
      "| epoch   3 |  2500/ 3011 batches | accuracy    0.706\n",
      "| epoch   3 |  3000/ 3011 batches | accuracy    0.705\n",
      "-----------------------------------------------------------\n",
      "| end of epoch   3 | time:  2.71s | valid accuracy    0.694 \n",
      "-----------------------------------------------------------\n"
     ]
    },
    {
     "name": "stderr",
     "output_type": "stream",
     "text": [
      "d:\\Miniconda\\envs\\nlp-env-torchtext\\Lib\\site-packages\\sklearn\\metrics\\_classification.py:1565: UndefinedMetricWarning: Precision is ill-defined and being set to 0.0 in labels with no predicted samples. Use `zero_division` parameter to control this behavior.\n",
      "  _warn_prf(average, modifier, f\"{metric.capitalize()} is\", len(result))\n"
     ]
    },
    {
     "name": "stdout",
     "output_type": "stream",
     "text": [
      "| epoch   4 |   500/ 3011 batches | accuracy    0.714\n",
      "| epoch   4 |  1000/ 3011 batches | accuracy    0.709\n",
      "| epoch   4 |  1500/ 3011 batches | accuracy    0.719\n",
      "| epoch   4 |  2000/ 3011 batches | accuracy    0.717\n",
      "| epoch   4 |  2500/ 3011 batches | accuracy    0.712\n",
      "| epoch   4 |  3000/ 3011 batches | accuracy    0.708\n",
      "-----------------------------------------------------------\n",
      "| end of epoch   4 | time:  2.70s | valid accuracy    0.696 \n",
      "-----------------------------------------------------------\n",
      "| epoch   5 |   500/ 3011 batches | accuracy    0.712\n",
      "| epoch   5 |  1000/ 3011 batches | accuracy    0.713\n",
      "| epoch   5 |  1500/ 3011 batches | accuracy    0.707\n",
      "| epoch   5 |  2000/ 3011 batches | accuracy    0.724\n",
      "| epoch   5 |  2500/ 3011 batches | accuracy    0.703\n",
      "| epoch   5 |  3000/ 3011 batches | accuracy    0.724\n",
      "-----------------------------------------------------------\n",
      "| end of epoch   5 | time:  2.68s | valid accuracy    0.696 \n",
      "-----------------------------------------------------------\n",
      "| epoch   6 |   500/ 3011 batches | accuracy    0.710\n",
      "| epoch   6 |  1000/ 3011 batches | accuracy    0.722\n",
      "| epoch   6 |  1500/ 3011 batches | accuracy    0.716\n",
      "| epoch   6 |  2000/ 3011 batches | accuracy    0.701\n",
      "| epoch   6 |  2500/ 3011 batches | accuracy    0.711\n",
      "| epoch   6 |  3000/ 3011 batches | accuracy    0.725\n",
      "-----------------------------------------------------------\n",
      "| end of epoch   6 | time:  2.60s | valid accuracy    0.696 \n",
      "-----------------------------------------------------------\n",
      "| epoch   7 |   500/ 3011 batches | accuracy    0.701\n",
      "| epoch   7 |  1000/ 3011 batches | accuracy    0.729\n",
      "| epoch   7 |  1500/ 3011 batches | accuracy    0.720\n",
      "| epoch   7 |  2000/ 3011 batches | accuracy    0.728\n",
      "| epoch   7 |  2500/ 3011 batches | accuracy    0.699\n",
      "| epoch   7 |  3000/ 3011 batches | accuracy    0.713\n",
      "-----------------------------------------------------------\n",
      "| end of epoch   7 | time:  2.60s | valid accuracy    0.696 \n",
      "-----------------------------------------------------------\n",
      "| epoch   8 |   500/ 3011 batches | accuracy    0.724\n",
      "| epoch   8 |  1000/ 3011 batches | accuracy    0.706\n",
      "| epoch   8 |  1500/ 3011 batches | accuracy    0.727\n",
      "| epoch   8 |  2000/ 3011 batches | accuracy    0.696\n",
      "| epoch   8 |  2500/ 3011 batches | accuracy    0.720\n",
      "| epoch   8 |  3000/ 3011 batches | accuracy    0.714\n",
      "-----------------------------------------------------------\n",
      "| end of epoch   8 | time:  2.52s | valid accuracy    0.699 \n",
      "-----------------------------------------------------------\n",
      "| epoch   9 |   500/ 3011 batches | accuracy    0.707\n",
      "| epoch   9 |  1000/ 3011 batches | accuracy    0.705\n",
      "| epoch   9 |  1500/ 3011 batches | accuracy    0.715\n",
      "| epoch   9 |  2000/ 3011 batches | accuracy    0.722\n",
      "| epoch   9 |  2500/ 3011 batches | accuracy    0.714\n",
      "| epoch   9 |  3000/ 3011 batches | accuracy    0.728\n",
      "-----------------------------------------------------------\n",
      "| end of epoch   9 | time:  2.59s | valid accuracy    0.699 \n",
      "-----------------------------------------------------------\n",
      "| epoch  10 |   500/ 3011 batches | accuracy    0.706\n",
      "| epoch  10 |  1000/ 3011 batches | accuracy    0.719\n",
      "| epoch  10 |  1500/ 3011 batches | accuracy    0.712\n",
      "| epoch  10 |  2000/ 3011 batches | accuracy    0.728\n",
      "| epoch  10 |  2500/ 3011 batches | accuracy    0.718\n",
      "| epoch  10 |  3000/ 3011 batches | accuracy    0.709\n",
      "-----------------------------------------------------------\n",
      "| end of epoch  10 | time:  2.55s | valid accuracy    0.694 \n",
      "-----------------------------------------------------------\n"
     ]
    }
   ],
   "source": [
    "# Run the training loop\n",
    "total_accu = None\n",
    "for epoch in range(1, EPOCHS + 1):\n",
    "    epoch_start_time = time.time()\n",
    "\n",
    "    train(model, train_dataloader, optimizer, criterion, epoch)\n",
    "    # accu_val = evaluate(model, valid_dataloader, criterion)\n",
    "    accu_val, _, _, _ = evaluate(model, valid_dataloader, criterion)\n",
    "\n",
    "    if total_accu is not None and total_accu > accu_val:\n",
    "        scheduler.step()\n",
    "    else:\n",
    "        total_accu = accu_val\n",
    "\n",
    "    print(\"-\" * 59)\n",
    "    print(\n",
    "        \"| end of epoch {:3d} | time: {:5.2f}s | \"\n",
    "        \"valid accuracy {:8.3f} \".format(\n",
    "            epoch, time.time() - epoch_start_time, accu_val\n",
    "        )\n",
    "    )\n",
    "    print(\"-\" * 59)"
   ]
  },
  {
   "cell_type": "code",
   "execution_count": 19,
   "metadata": {},
   "outputs": [],
   "source": [
    "# Save the model\n",
    "torch.save(model.state_dict(), \"text_classification_model_improved.pth\")"
   ]
  },
  {
   "cell_type": "code",
   "execution_count": 20,
   "metadata": {},
   "outputs": [
    {
     "name": "stdout",
     "output_type": "stream",
     "text": [
      "Test accuracy:    0.733\n",
      "Test precision:    0.646\n",
      "Test recall:    0.733\n",
      "Test F1 score:    0.641\n"
     ]
    }
   ],
   "source": [
    "# Evaluate on test data\n",
    "accu_test, precision_test, recall_test, f1_test = evaluate(model, test_dataloader, criterion)\n",
    "print(\"Test accuracy: {:8.3f}\".format(accu_test))\n",
    "print(\"Test precision: {:8.3f}\".format(precision_test))\n",
    "print(\"Test recall: {:8.3f}\".format(recall_test))\n",
    "print(\"Test F1 score: {:8.3f}\".format(f1_test))"
   ]
  },
  {
   "cell_type": "code",
   "execution_count": 21,
   "metadata": {},
   "outputs": [
    {
     "name": "stdout",
     "output_type": "stream",
     "text": [
      "This is a negative sentiment.\n"
     ]
    }
   ],
   "source": [
    "sentiment_labels = ['negative', 'positive']\n",
    "\n",
    "def predict(text, model, vocab, tokenizer, labels):\n",
    "    model.eval()\n",
    "    with torch.no_grad():\n",
    "        text = torch.tensor(vocab(tokenizer(text)), device=device)\n",
    "        output = model(text, torch.tensor([0], device=device))\n",
    "        return labels[output.argmax(1).item()]\n",
    "\n",
    "ex_text_str = \"圆圆说：爷爷\"\n",
    "print(\"This is a %s sentiment.\" % (predict(ex_text_str, model, vocab, tokenizer, sentiment_labels)))"
   ]
  },
  {
   "cell_type": "markdown",
   "metadata": {},
   "source": [
    "## 4. Explore Word Segmentation"
   ]
  },
  {
   "cell_type": "code",
   "execution_count": 22,
   "metadata": {},
   "outputs": [],
   "source": [
    "import re\n",
    "import jieba\n",
    "\n",
    "def basic_chinese_tokenizer(text):\n",
    "    chinese_char_pattern = r'[\\u4e00-\\u9fff]'  # Unicode range for common Chinese characters\n",
    "    tokens = re.findall(chinese_char_pattern, text)\n",
    "    return tokens\n",
    "\n",
    "def improved_chinese_tokenizer(text):\n",
    "    chinese_char_pattern = r'[\\u4e00-\\u9fff]'\n",
    "    digits_pattern = r'\\d+'\n",
    "    english_word_pattern = r'[a-zA-Z]+'\n",
    "    punctuation_pattern = r'[，。！？、：；（）【】《》“”‘’.,;:!?()\\[\\]{}]+'\n",
    "    combined_pattern = f\"({chinese_char_pattern}|{digits_pattern}|{english_word_pattern}|{punctuation_pattern})\"\n",
    "    tokens = re.findall(combined_pattern, text)\n",
    "    return tokens\n",
    "\n",
    "def jieba_chinese_tokenizer(text):\n",
    "    tokens = jieba.lcut(text)\n",
    "    return tokens\n",
    "\n",
    "# tokenizer = basic_chinese_tokenizer\n",
    "# tokenizer = improved_chinese_tokenizer\n",
    "tokenizer = jieba_chinese_tokenizer\n",
    "\n",
    "def yield_tokens(data_iter):\n",
    "    for batch in data_iter:\n",
    "        yield tokenizer(batch['sentence'])"
   ]
  },
  {
   "cell_type": "code",
   "execution_count": 23,
   "metadata": {},
   "outputs": [
    {
     "name": "stderr",
     "output_type": "stream",
     "text": [
      "Building prefix dict from the default dictionary ...\n",
      "Loading model from cache C:\\Users\\tyk13\\AppData\\Local\\Temp\\jieba.cache\n",
      "Loading model cost 0.399 seconds.\n",
      "Prefix dict has been built successfully.\n"
     ]
    },
    {
     "name": "stdout",
     "output_type": "stream",
     "text": [
      "['卖', '油条', '小', '刘说', '：', '我', '说']\n",
      "['保姆', '小张', '说', '：', '干', '啥子', '嘛', '？']\n",
      "['卖', '油条', '小', '刘说', '：', '你', '看', '你', '往', '星空', '看', '月', '朦胧', '，', '鸟', '朦胧']\n",
      "['卖', '油条', '小', '刘说', '：', '咱', '是不是', '歇', '一下', '这', '双', '，', '疲惫', '的', '双腿', '？']\n"
     ]
    }
   ],
   "source": [
    "count = 0\n",
    "for tokens in yield_tokens(iter(train_dataset)): # Use a new iterator\n",
    "    print(tokens)\n",
    "    count += 1\n",
    "    if count > 3:\n",
    "        break"
   ]
  },
  {
   "cell_type": "code",
   "execution_count": 24,
   "metadata": {},
   "outputs": [],
   "source": [
    "# build vocabulary\n",
    "from torchtext.vocab import build_vocab_from_iterator\n",
    "\n",
    "vocab = build_vocab_from_iterator(yield_tokens(iter(train_dataset)), specials=[\"<unk>\"])\n",
    "vocab.set_default_index(vocab[\"<unk>\"])"
   ]
  },
  {
   "cell_type": "code",
   "execution_count": 25,
   "metadata": {},
   "outputs": [
    {
     "name": "stdout",
     "output_type": "stream",
     "text": [
      "[435, 2, 5, 61]\n",
      "[435, 2, 146, 12, 20, 12, 1120, 73, 320]\n",
      "[0, 0]\n",
      "Vocabulary size: 13847\n",
      "[5, 48, 0, 0, 43, 153, 0]\n",
      "[385, 3516, 2129, 6008, 43, 153, 0, 0]\n"
     ]
    }
   ],
   "source": [
    "# Check the vocab\n",
    "print(vocab(['刘', '说', '你', '看']))\n",
    "print(vocab(['刘', '说', '咱', '是', '不', '是', '歇', '一', '下']))\n",
    "print(vocab(['of', 'saucy']))\n",
    "\n",
    "print(\"Vocabulary size:\", len(vocab))\n",
    "print(vocab(['你', '好', '世','界', '！','。','@']))\n",
    "print(vocab(['卖', '油', '条','鸡', '！','。','@','123']))"
   ]
  },
  {
   "cell_type": "code",
   "execution_count": 26,
   "metadata": {},
   "outputs": [
    {
     "name": "stdout",
     "output_type": "stream",
     "text": [
      "[240, 68, 0]\n",
      "1\n"
     ]
    }
   ],
   "source": [
    "text_pipeline = lambda x: vocab(tokenizer(x))\n",
    "label_pipeline = lambda x: int(x)\n",
    "\n",
    "# Test text_pipeline()\n",
    "tokens = text_pipeline('这是一个示例')\n",
    "print(tokens)\n",
    "\n",
    "# Test label_pipeline()\n",
    "lbl = label_pipeline('1')\n",
    "print(lbl)"
   ]
  },
  {
   "cell_type": "code",
   "execution_count": 27,
   "metadata": {},
   "outputs": [],
   "source": [
    "from torch.utils.data import DataLoader\n",
    "device = torch.device(\"cuda\" if torch.cuda.is_available() else \"cpu\")\n",
    "\n",
    "def collate_batch(batch):\n",
    "    label_list, token_ids_list, offsets = [], [], [0]\n",
    "\n",
    "    for data in batch:\n",
    "        _label = data['label']\n",
    "        _text = data['sentence']\n",
    "        label_list.append(label_pipeline(_label))\n",
    "        token_ids = torch.tensor(text_pipeline(_text), dtype=torch.int64)\n",
    "        token_ids_list.append(token_ids)\n",
    "        offsets.append(token_ids.size(0)) # Note that offsets contains the length (number of tokens) of each example\n",
    "\n",
    "    labels = torch.tensor(label_list, dtype=torch.int64)\n",
    "    offsets = torch.tensor(offsets[:-1]).cumsum(dim=0)\n",
    "    token_ids = torch.cat(token_ids_list)\n",
    "\n",
    "    return labels.to(device), token_ids.to(device), offsets.to(device)"
   ]
  },
  {
   "cell_type": "code",
   "execution_count": 28,
   "metadata": {},
   "outputs": [],
   "source": [
    "# Use collate_batch to generate the dataloader\\\n",
    "dataloader = DataLoader(\n",
    "    train_dataset, batch_size=8, shuffle=False, collate_fn=collate_batch\n",
    ")"
   ]
  },
  {
   "cell_type": "code",
   "execution_count": 29,
   "metadata": {},
   "outputs": [
    {
     "name": "stdout",
     "output_type": "stream",
     "text": [
      "batch 0 label: tensor([0, 0, 1, 0, 0, 1, 0, 0])\n",
      "batch 0 text: tensor([  385,   536,    79,   671,     1,     3,     2,    51,    84,     2,\n",
      "            1,   185,  1735,    37,    18,   385,   536,    79,   671,     1,\n",
      "            5,    61,     5,   396, 10492,    61,   626,  5161,     4,  1344,\n",
      "         5161,   385,   536,    79,   671,     1,   146,   104,  1120,   172,\n",
      "           16,  4410,     4, 11491,     6,  4414,    18,   385,   536,    79,\n",
      "          671,     1,   178,    55,     3,  2708,     7,   385,   536,    79,\n",
      "          671,     1,     3,     2,  1694,     6,   238,     5,  1890,    13,\n",
      "           18,    51,    84,     2,     1,  4915,  1890,   715,     3,    97,\n",
      "         3298,   385,   536,    79,   671,     1,  1987])\n",
      "batch 0 offsets: tensor([ 0,  7, 15, 31, 47, 57, 71, 81])\n",
      "Number of tokens in this batch:  87\n",
      "Number of examples in one batch:  8\n",
      "Example 0:  tensor([385, 536,  79, 671,   1,   3,   2])\n",
      "Example 7:  tensor([ 385,  536,   79,  671,    1, 1987])\n"
     ]
    }
   ],
   "source": [
    "# Test the dataloader\n",
    "for i, (labels, token_ids, offsets) in enumerate(dataloader):\n",
    "    print(f\"batch {i} label: {labels}\")\n",
    "    print(f\"batch {i} text: {token_ids}\")\n",
    "    print(f\"batch {i} offsets: {offsets}\")\n",
    "    if i == 0:\n",
    "        break\n",
    "\n",
    "# What does offsets mean?\n",
    "print('Number of tokens in this batch: ', token_ids.size(0))\n",
    "print('Number of examples in one batch: ', labels.size(0))\n",
    "print('Example 0: ', token_ids[offsets[0]:offsets[1]])\n",
    "print('Example 7: ', token_ids[offsets[7]:])\n",
    "\n",
    "# You are expected to see the following output:\n",
    "# Number of tokens in this batch:  82\n",
    "# Number of examples in one batch:  8\n",
    "# Example 0:  tensor([ 4579,    92, 13266,    38,     1,  7742, 10000])\n",
    "# Example 7:  tensor([   5, 7100])"
   ]
  },
  {
   "cell_type": "markdown",
   "metadata": {},
   "source": [
    "### 2. Build the Model"
   ]
  },
  {
   "cell_type": "code",
   "execution_count": 30,
   "metadata": {},
   "outputs": [],
   "source": [
    "from torch import nn\n",
    "\n",
    "class TextClassificationModel(nn.Module):\n",
    "    def __init__(self, vocab_size, embed_dim, num_class, hidden_dim1, hidden_dim2):\n",
    "        super(TextClassificationModel, self).__init__()\n",
    "        self.embedding = nn.EmbeddingBag(vocab_size, embed_dim, sparse=False)\n",
    "        self.hidden_layers = nn.Sequential(\n",
    "            nn.Linear(embed_dim, hidden_dim1),\n",
    "            nn.ReLU(),\n",
    "            nn.Linear(hidden_dim1, hidden_dim2),\n",
    "            nn.ReLU()\n",
    "        )\n",
    "        self.fc = nn.Linear(hidden_dim2, num_class)\n",
    "        self.init_weights()\n",
    "\n",
    "    def init_weights(self):\n",
    "        initrange = 0.5\n",
    "        self.embedding.weight.data.uniform_(-initrange, initrange)\n",
    "        for layer in self.hidden_layers:\n",
    "            if isinstance(layer, nn.Linear):\n",
    "                layer.weight.data.uniform_(-initrange, initrange)\n",
    "                layer.bias.data.zero_()\n",
    "        self.fc.weight.data.uniform_(-initrange, initrange)\n",
    "        self.fc.bias.data.zero_()\n",
    "\n",
    "    def forward(self, token_ids, offsets):\n",
    "        embedded = self.embedding(token_ids, offsets)\n",
    "        x = self.hidden_layers(embedded)\n",
    "        return self.fc(x)"
   ]
  },
  {
   "cell_type": "code",
   "execution_count": 31,
   "metadata": {},
   "outputs": [],
   "source": [
    "\n",
    "# Build the model\n",
    "train_iter = iter(train_dataset)\n",
    "num_class = len(set([data['label'] for data in train_iter]))\n",
    "vocab_size = len(vocab)\n",
    "emsize = 64 # embedding size\n",
    "hidden_dim1 = 16\n",
    "hidden_dim2 = 8\n",
    "model = TextClassificationModel(vocab_size, emsize, num_class, hidden_dim1, hidden_dim2).to(device)"
   ]
  },
  {
   "cell_type": "code",
   "execution_count": 32,
   "metadata": {},
   "outputs": [
    {
     "name": "stdout",
     "output_type": "stream",
     "text": [
      "output size: torch.Size([8, 2])\n",
      "TextClassificationModel(\n",
      "  (embedding): EmbeddingBag(13847, 64, mode='mean')\n",
      "  (hidden_layers): Sequential(\n",
      "    (0): Linear(in_features=64, out_features=16, bias=True)\n",
      "    (1): ReLU()\n",
      "    (2): Linear(in_features=16, out_features=8, bias=True)\n",
      "    (3): ReLU()\n",
      "  )\n",
      "  (fc): Linear(in_features=8, out_features=2, bias=True)\n",
      ")\n"
     ]
    }
   ],
   "source": [
    "# Test the model\n",
    "model.eval()\n",
    "with torch.no_grad():\n",
    "    for i, (labels, token_ids, offsets) in enumerate(dataloader):\n",
    "        output = model(token_ids, offsets)\n",
    "        # print(f\"batch {i} output: {output}\")\n",
    "        if i == 0:\n",
    "            break\n",
    "\n",
    "print('output size:', output.size())\n",
    "\n",
    "# You are expected to see the following output:\n",
    "# output size: torch.Size([8, 2])\n",
    "\n",
    "print(model)"
   ]
  },
  {
   "cell_type": "code",
   "execution_count": 33,
   "metadata": {},
   "outputs": [],
   "source": [
    "from torch.utils.data.dataset import random_split\n",
    "from torchtext.data.functional import to_map_style_dataset\n",
    "\n",
    "# Hyperparameters\n",
    "EPOCHS = 10  # epoch\n",
    "LR = 0.01  # learning rate\n",
    "BATCH_SIZE = 4  # batch size for training\n",
    "\n",
    "criterion = torch.nn.CrossEntropyLoss()\n",
    "\n",
    "optimizer = torch.optim.SGD(model.parameters(), lr=LR)\n",
    "scheduler = torch.optim.lr_scheduler.StepLR(optimizer, step_size=1, gamma=0.1)"
   ]
  },
  {
   "cell_type": "code",
   "execution_count": 34,
   "metadata": {},
   "outputs": [
    {
     "name": "stdout",
     "output_type": "stream",
     "text": [
      "output shape: torch.Size([8, 2])\n",
      "loss: tensor(0.6165)\n",
      "loss_manual mean: tensor(0.6165)\n"
     ]
    }
   ],
   "source": [
    "# First, obtain some output and labels\n",
    "model.eval()\n",
    "with torch.no_grad():\n",
    "    for i, (labels, token_ids, offsets) in enumerate(dataloader):\n",
    "        output = model(token_ids, offsets)\n",
    "        # print(f\"batch {i} output: {output}\")\n",
    "        if i == 0:\n",
    "            break\n",
    "print('output shape:', output.shape)\n",
    "\n",
    "loss = criterion(output, labels)\n",
    "print('loss:', loss)\n",
    "\n",
    "# Manually calculate the loss\n",
    "loss_manual = []\n",
    "for i in range(output.shape[0]):\n",
    "    ### START YOUR CODE ###\n",
    "    probs = torch.softmax(output[i], dim=0)\n",
    "    l = -torch.log(probs[labels[i]])\n",
    "    ### END YOUR CODE ###\n",
    "    loss_manual.append(l)\n",
    "loss_manual = torch.stack(loss_manual)\n",
    "print('loss_manual mean:', loss_manual.mean())\n",
    "\n",
    "# You are expected to see the following output:\n",
    "# output shape: torch.Size([8, 2])\n",
    "# loss: tensor(0.0115)\n",
    "# loss_manual mean: tensor(0.0115)"
   ]
  },
  {
   "cell_type": "markdown",
   "metadata": {},
   "source": [
    "### 3. Train and Evaluate"
   ]
  },
  {
   "cell_type": "code",
   "execution_count": 35,
   "metadata": {},
   "outputs": [],
   "source": [
    "import time\n",
    "from sklearn.metrics import precision_score, recall_score, f1_score\n",
    "\n",
    "def train(model, dataloader, optimizer, criterion, epoch: int):\n",
    "    model.train()\n",
    "    total_acc, total_count = 0, 0\n",
    "    log_interval = 500\n",
    "    start_time = time.time()\n",
    "\n",
    "    for idx, (labels, token_ids, offsets) in enumerate(dataloader):\n",
    "        optimizer.zero_grad()\n",
    "        ### START YOUR CODE ###\n",
    "        # Forward pass\n",
    "        output = model(token_ids, offsets)\n",
    "        ### END YOUR CODE ###\n",
    "        try:\n",
    "            ### START YOUR CODE ###\n",
    "            # Compute loss\n",
    "            loss = criterion(output, labels)\n",
    "            ### END YOUR CODE ###\n",
    "        except Exception:\n",
    "            print('Error in loss calculation')\n",
    "            print('output: ', output.size())\n",
    "            print('labels: ', labels.size())\n",
    "            print('token_ids: ', token_ids)\n",
    "            print('offsets: ', offsets)\n",
    "            raise\n",
    "        ### START YOUR CODE ###\n",
    "        # Backward propagation, grad clipping, and optimization\n",
    "        loss.backward()\n",
    "        torch.nn.utils.clip_grad_norm_(model.parameters(), 0.5)\n",
    "        optimizer.step()\n",
    "        ### END YOUR CODE ###\n",
    "\n",
    "        ### START YOUR CODE ###\n",
    "        # Calculate correct prediction in current batch\n",
    "        total_acc += (output.argmax(1) == labels).sum().item()\n",
    "        ### END YOUR CODE ###\n",
    "\n",
    "        total_count += labels.size(0)\n",
    "        if idx % log_interval == 0 and idx > 0:\n",
    "            elapsed = time.time() - start_time\n",
    "            print(\n",
    "                \"| epoch {:3d} | {:5d}/{:5d} batches \"\n",
    "                \"| accuracy {:8.3f}\".format(\n",
    "                    epoch, idx, len(dataloader), total_acc / total_count\n",
    "                )\n",
    "            )\n",
    "            total_acc, total_count = 0, 0\n",
    "            start_time = time.time()\n",
    "\n",
    "@torch.no_grad()\n",
    "def evaluate(model, dataloader, criterion):\n",
    "    model.eval()\n",
    "    total_acc, total_count = 0, 0\n",
    "    all_labels = []\n",
    "    all_preds = []\n",
    "\n",
    "    for idx, (label, text, offsets) in enumerate(dataloader):\n",
    "        ### START YOUR CODE ###\n",
    "        # Similar to the code in train function, but without backpropagation\n",
    "        output = model(text, offsets)\n",
    "        loss = criterion(output, label)\n",
    "        total_acc += (output.argmax(1) == label).sum().item()\n",
    "        ### END YOUR CODE ###\n",
    "        total_count += label.size(0)\n",
    "        all_labels.extend(label.cpu().numpy())\n",
    "        all_preds.extend(output.argmax(1).cpu().numpy())\n",
    "\n",
    "    accuracy = total_acc / total_count\n",
    "    precision = precision_score(all_labels, all_preds, average='weighted')\n",
    "    recall = recall_score(all_labels, all_preds, average='weighted')\n",
    "    f1 = f1_score(all_labels, all_preds, average='weighted')\n",
    "\n",
    "    return accuracy, precision, recall, f1"
   ]
  },
  {
   "cell_type": "code",
   "execution_count": 36,
   "metadata": {},
   "outputs": [],
   "source": [
    "# Prepare train, valid, and test data\n",
    "train_iter = iter(train_dataset)\n",
    "test_iter = iter(test_dataset)\n",
    "train_dataset = to_map_style_dataset(train_iter)\n",
    "test_dataset = to_map_style_dataset(test_iter)\n",
    "\n",
    "num_train = int(len(train_dataset) * 0.95)\n",
    "split_train_, split_valid_ = random_split(\n",
    "    train_dataset, [num_train, len(train_dataset) - num_train]\n",
    ")\n",
    "\n",
    "train_dataloader = DataLoader(\n",
    "    split_train_, batch_size=BATCH_SIZE, shuffle=True, collate_fn=collate_batch\n",
    ")\n",
    "valid_dataloader = DataLoader(\n",
    "    split_valid_, batch_size=BATCH_SIZE, shuffle=True, collate_fn=collate_batch\n",
    ")\n",
    "test_dataloader = DataLoader(\n",
    "    test_dataset, batch_size=BATCH_SIZE, shuffle=True, collate_fn=collate_batch\n",
    ")"
   ]
  },
  {
   "cell_type": "code",
   "execution_count": 37,
   "metadata": {},
   "outputs": [
    {
     "name": "stdout",
     "output_type": "stream",
     "text": [
      "| epoch   1 |   500/ 3011 batches | accuracy    0.709\n",
      "| epoch   1 |  1000/ 3011 batches | accuracy    0.702\n",
      "| epoch   1 |  1500/ 3011 batches | accuracy    0.718\n",
      "| epoch   1 |  2000/ 3011 batches | accuracy    0.716\n",
      "| epoch   1 |  2500/ 3011 batches | accuracy    0.716\n",
      "| epoch   1 |  3000/ 3011 batches | accuracy    0.710\n",
      "-----------------------------------------------------------\n",
      "| end of epoch   1 | time:  4.34s | valid accuracy    0.711 \n",
      "-----------------------------------------------------------\n"
     ]
    },
    {
     "name": "stderr",
     "output_type": "stream",
     "text": [
      "d:\\Miniconda\\envs\\nlp-env-torchtext\\Lib\\site-packages\\sklearn\\metrics\\_classification.py:1565: UndefinedMetricWarning: Precision is ill-defined and being set to 0.0 in labels with no predicted samples. Use `zero_division` parameter to control this behavior.\n",
      "  _warn_prf(average, modifier, f\"{metric.capitalize()} is\", len(result))\n"
     ]
    },
    {
     "name": "stdout",
     "output_type": "stream",
     "text": [
      "| epoch   2 |   500/ 3011 batches | accuracy    0.720\n",
      "| epoch   2 |  1000/ 3011 batches | accuracy    0.701\n",
      "| epoch   2 |  1500/ 3011 batches | accuracy    0.692\n",
      "| epoch   2 |  2000/ 3011 batches | accuracy    0.717\n",
      "| epoch   2 |  2500/ 3011 batches | accuracy    0.723\n",
      "| epoch   2 |  3000/ 3011 batches | accuracy    0.723\n",
      "-----------------------------------------------------------\n",
      "| end of epoch   2 | time:  4.59s | valid accuracy    0.711 \n",
      "-----------------------------------------------------------\n"
     ]
    },
    {
     "name": "stderr",
     "output_type": "stream",
     "text": [
      "d:\\Miniconda\\envs\\nlp-env-torchtext\\Lib\\site-packages\\sklearn\\metrics\\_classification.py:1565: UndefinedMetricWarning: Precision is ill-defined and being set to 0.0 in labels with no predicted samples. Use `zero_division` parameter to control this behavior.\n",
      "  _warn_prf(average, modifier, f\"{metric.capitalize()} is\", len(result))\n"
     ]
    },
    {
     "name": "stdout",
     "output_type": "stream",
     "text": [
      "| epoch   3 |   500/ 3011 batches | accuracy    0.702\n",
      "| epoch   3 |  1000/ 3011 batches | accuracy    0.716\n",
      "| epoch   3 |  1500/ 3011 batches | accuracy    0.713\n",
      "| epoch   3 |  2000/ 3011 batches | accuracy    0.717\n",
      "| epoch   3 |  2500/ 3011 batches | accuracy    0.705\n",
      "| epoch   3 |  3000/ 3011 batches | accuracy    0.722\n",
      "-----------------------------------------------------------\n",
      "| end of epoch   3 | time:  4.70s | valid accuracy    0.711 \n",
      "-----------------------------------------------------------\n"
     ]
    },
    {
     "name": "stderr",
     "output_type": "stream",
     "text": [
      "d:\\Miniconda\\envs\\nlp-env-torchtext\\Lib\\site-packages\\sklearn\\metrics\\_classification.py:1565: UndefinedMetricWarning: Precision is ill-defined and being set to 0.0 in labels with no predicted samples. Use `zero_division` parameter to control this behavior.\n",
      "  _warn_prf(average, modifier, f\"{metric.capitalize()} is\", len(result))\n"
     ]
    },
    {
     "name": "stdout",
     "output_type": "stream",
     "text": [
      "| epoch   4 |   500/ 3011 batches | accuracy    0.707\n",
      "| epoch   4 |  1000/ 3011 batches | accuracy    0.704\n",
      "| epoch   4 |  1500/ 3011 batches | accuracy    0.712\n",
      "| epoch   4 |  2000/ 3011 batches | accuracy    0.723\n",
      "| epoch   4 |  2500/ 3011 batches | accuracy    0.706\n",
      "| epoch   4 |  3000/ 3011 batches | accuracy    0.726\n",
      "-----------------------------------------------------------\n",
      "| end of epoch   4 | time:  4.67s | valid accuracy    0.711 \n",
      "-----------------------------------------------------------\n"
     ]
    },
    {
     "name": "stderr",
     "output_type": "stream",
     "text": [
      "d:\\Miniconda\\envs\\nlp-env-torchtext\\Lib\\site-packages\\sklearn\\metrics\\_classification.py:1565: UndefinedMetricWarning: Precision is ill-defined and being set to 0.0 in labels with no predicted samples. Use `zero_division` parameter to control this behavior.\n",
      "  _warn_prf(average, modifier, f\"{metric.capitalize()} is\", len(result))\n"
     ]
    },
    {
     "name": "stdout",
     "output_type": "stream",
     "text": [
      "| epoch   5 |   500/ 3011 batches | accuracy    0.727\n",
      "| epoch   5 |  1000/ 3011 batches | accuracy    0.725\n",
      "| epoch   5 |  1500/ 3011 batches | accuracy    0.715\n",
      "| epoch   5 |  2000/ 3011 batches | accuracy    0.701\n",
      "| epoch   5 |  2500/ 3011 batches | accuracy    0.701\n",
      "| epoch   5 |  3000/ 3011 batches | accuracy    0.710\n",
      "-----------------------------------------------------------\n",
      "| end of epoch   5 | time:  4.55s | valid accuracy    0.711 \n",
      "-----------------------------------------------------------\n"
     ]
    },
    {
     "name": "stderr",
     "output_type": "stream",
     "text": [
      "d:\\Miniconda\\envs\\nlp-env-torchtext\\Lib\\site-packages\\sklearn\\metrics\\_classification.py:1565: UndefinedMetricWarning: Precision is ill-defined and being set to 0.0 in labels with no predicted samples. Use `zero_division` parameter to control this behavior.\n",
      "  _warn_prf(average, modifier, f\"{metric.capitalize()} is\", len(result))\n"
     ]
    },
    {
     "name": "stdout",
     "output_type": "stream",
     "text": [
      "| epoch   6 |   500/ 3011 batches | accuracy    0.708\n",
      "| epoch   6 |  1000/ 3011 batches | accuracy    0.704\n",
      "| epoch   6 |  1500/ 3011 batches | accuracy    0.703\n",
      "| epoch   6 |  2000/ 3011 batches | accuracy    0.724\n",
      "| epoch   6 |  2500/ 3011 batches | accuracy    0.716\n",
      "| epoch   6 |  3000/ 3011 batches | accuracy    0.725\n",
      "-----------------------------------------------------------\n",
      "| end of epoch   6 | time:  4.40s | valid accuracy    0.713 \n",
      "-----------------------------------------------------------\n",
      "| epoch   7 |   500/ 3011 batches | accuracy    0.706\n",
      "| epoch   7 |  1000/ 3011 batches | accuracy    0.711\n",
      "| epoch   7 |  1500/ 3011 batches | accuracy    0.715\n",
      "| epoch   7 |  2000/ 3011 batches | accuracy    0.721\n",
      "| epoch   7 |  2500/ 3011 batches | accuracy    0.726\n",
      "| epoch   7 |  3000/ 3011 batches | accuracy    0.709\n",
      "-----------------------------------------------------------\n",
      "| end of epoch   7 | time:  4.60s | valid accuracy    0.715 \n",
      "-----------------------------------------------------------\n",
      "| epoch   8 |   500/ 3011 batches | accuracy    0.710\n",
      "| epoch   8 |  1000/ 3011 batches | accuracy    0.704\n",
      "| epoch   8 |  1500/ 3011 batches | accuracy    0.711\n",
      "| epoch   8 |  2000/ 3011 batches | accuracy    0.710\n",
      "| epoch   8 |  2500/ 3011 batches | accuracy    0.709\n",
      "| epoch   8 |  3000/ 3011 batches | accuracy    0.741\n",
      "-----------------------------------------------------------\n",
      "| end of epoch   8 | time:  4.43s | valid accuracy    0.711 \n",
      "-----------------------------------------------------------\n"
     ]
    },
    {
     "name": "stderr",
     "output_type": "stream",
     "text": [
      "d:\\Miniconda\\envs\\nlp-env-torchtext\\Lib\\site-packages\\sklearn\\metrics\\_classification.py:1565: UndefinedMetricWarning: Precision is ill-defined and being set to 0.0 in labels with no predicted samples. Use `zero_division` parameter to control this behavior.\n",
      "  _warn_prf(average, modifier, f\"{metric.capitalize()} is\", len(result))\n"
     ]
    },
    {
     "name": "stdout",
     "output_type": "stream",
     "text": [
      "| epoch   9 |   500/ 3011 batches | accuracy    0.691\n",
      "| epoch   9 |  1000/ 3011 batches | accuracy    0.741\n",
      "| epoch   9 |  1500/ 3011 batches | accuracy    0.706\n",
      "| epoch   9 |  2000/ 3011 batches | accuracy    0.719\n",
      "| epoch   9 |  2500/ 3011 batches | accuracy    0.705\n",
      "| epoch   9 |  3000/ 3011 batches | accuracy    0.722\n",
      "-----------------------------------------------------------\n",
      "| end of epoch   9 | time:  4.51s | valid accuracy    0.711 \n",
      "-----------------------------------------------------------\n",
      "| epoch  10 |   500/ 3011 batches | accuracy    0.703\n",
      "| epoch  10 |  1000/ 3011 batches | accuracy    0.721\n",
      "| epoch  10 |  1500/ 3011 batches | accuracy    0.724\n",
      "| epoch  10 |  2000/ 3011 batches | accuracy    0.702\n",
      "| epoch  10 |  2500/ 3011 batches | accuracy    0.706\n",
      "| epoch  10 |  3000/ 3011 batches | accuracy    0.731\n",
      "-----------------------------------------------------------\n",
      "| end of epoch  10 | time:  4.60s | valid accuracy    0.710 \n",
      "-----------------------------------------------------------\n"
     ]
    }
   ],
   "source": [
    "# Run the training loop\n",
    "total_accu = None\n",
    "for epoch in range(1, EPOCHS + 1):\n",
    "    epoch_start_time = time.time()\n",
    "\n",
    "    train(model, train_dataloader, optimizer, criterion, epoch)\n",
    "    # accu_val = evaluate(model, valid_dataloader, criterion)\n",
    "    accu_val, _, _, _ = evaluate(model, valid_dataloader, criterion)\n",
    "\n",
    "    if total_accu is not None and total_accu > accu_val:\n",
    "        scheduler.step()\n",
    "    else:\n",
    "        total_accu = accu_val\n",
    "\n",
    "    print(\"-\" * 59)\n",
    "    print(\n",
    "        \"| end of epoch {:3d} | time: {:5.2f}s | \"\n",
    "        \"valid accuracy {:8.3f} \".format(\n",
    "            epoch, time.time() - epoch_start_time, accu_val\n",
    "        )\n",
    "    )\n",
    "    print(\"-\" * 59)"
   ]
  },
  {
   "cell_type": "code",
   "execution_count": 38,
   "metadata": {},
   "outputs": [],
   "source": [
    "# Save the model\n",
    "torch.save(model.state_dict(), \"text_classification_model_improved.pth\")"
   ]
  },
  {
   "cell_type": "code",
   "execution_count": 39,
   "metadata": {},
   "outputs": [
    {
     "name": "stdout",
     "output_type": "stream",
     "text": [
      "Test accuracy:    0.739\n",
      "Test precision:    0.677\n",
      "Test recall:    0.739\n",
      "Test F1 score:    0.631\n"
     ]
    }
   ],
   "source": [
    "# Evaluate on test data\n",
    "accu_test, precision_test, recall_test, f1_test = evaluate(model, test_dataloader, criterion)\n",
    "print(\"Test accuracy: {:8.3f}\".format(accu_test))\n",
    "print(\"Test precision: {:8.3f}\".format(precision_test))\n",
    "print(\"Test recall: {:8.3f}\".format(recall_test))\n",
    "print(\"Test F1 score: {:8.3f}\".format(f1_test))"
   ]
  },
  {
   "cell_type": "code",
   "execution_count": 40,
   "metadata": {},
   "outputs": [
    {
     "name": "stdout",
     "output_type": "stream",
     "text": [
      "This is a negative sentiment.\n"
     ]
    }
   ],
   "source": [
    "sentiment_labels = ['negative', 'positive']\n",
    "\n",
    "def predict(text, model, vocab, tokenizer, labels):\n",
    "    model.eval()\n",
    "    with torch.no_grad():\n",
    "        text = torch.tensor(vocab(tokenizer(text)), device=device)\n",
    "        output = model(text, torch.tensor([0], device=device))\n",
    "        return labels[output.argmax(1).item()]\n",
    "\n",
    "ex_text_str = \"圆圆说：爷爷\"\n",
    "print(\"This is a %s sentiment.\" % (predict(ex_text_str, model, vocab, tokenizer, sentiment_labels)))"
   ]
  }
 ],
 "metadata": {
  "kernelspec": {
   "display_name": "nlp-env-torchtext",
   "language": "python",
   "name": "python3"
  },
  "language_info": {
   "codemirror_mode": {
    "name": "ipython",
    "version": 3
   },
   "file_extension": ".py",
   "mimetype": "text/x-python",
   "name": "python",
   "nbconvert_exporter": "python",
   "pygments_lexer": "ipython3",
   "version": "3.11.11"
  }
 },
 "nbformat": 4,
 "nbformat_minor": 2
}
